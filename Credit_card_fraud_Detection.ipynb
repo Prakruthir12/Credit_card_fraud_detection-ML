{
  "nbformat": 4,
  "nbformat_minor": 0,
  "metadata": {
    "colab": {
      "name": "Credit_card_fraud_Detection",
      "provenance": [],
      "collapsed_sections": [],
      "mount_file_id": "10BojfRSUe6JfsfyhFv06kBAVv8FyEnnO",
      "authorship_tag": "ABX9TyNqz/DlDJVrrgkyWlHSr8bQ",
      "include_colab_link": true
    },
    "kernelspec": {
      "name": "python3",
      "display_name": "Python 3"
    },
    "language_info": {
      "name": "python"
    }
  },
  "cells": [
    {
      "cell_type": "markdown",
      "metadata": {
        "id": "view-in-github",
        "colab_type": "text"
      },
      "source": [
        "<a href=\"https://colab.research.google.com/github/Prakruthir12/ML_Project/blob/main/Credit_card_fraud_Detection.ipynb\" target=\"_parent\"><img src=\"https://colab.research.google.com/assets/colab-badge.svg\" alt=\"Open In Colab\"/></a>"
      ]
    },
    {
      "cell_type": "markdown",
      "metadata": {
        "id": "66bR9RoUcO7g"
      },
      "source": [
        "Importing the Dependencies"
      ]
    },
    {
      "cell_type": "code",
      "metadata": {
        "id": "hY6D5MtWbybN"
      },
      "source": [
        "import numpy as np\n",
        "import pandas as pd\n",
        "from sklearn.model_selection import train_test_split\n",
        "from sklearn.linear_model import LogisticRegression\n",
        "from sklearn.metrics import accuracy_score"
      ],
      "execution_count": 1,
      "outputs": []
    },
    {
      "cell_type": "code",
      "metadata": {
        "id": "lRmqp2wmcUCO"
      },
      "source": [
        "# loading the dataset to a Pandas DataFrame\n",
        "credit_card_data = pd.read_csv('/content/creditcard.csv')"
      ],
      "execution_count": 3,
      "outputs": []
    },
    {
      "cell_type": "code",
      "metadata": {
        "colab": {
          "base_uri": "https://localhost:8080/",
          "height": 223
        },
        "id": "OEaF7UkVdNg_",
        "outputId": "1f3e73f3-8646-4c66-cecc-05312030141a"
      },
      "source": [
        "# first 5 rows of the dataset\n",
        "credit_card_data.head()"
      ],
      "execution_count": 4,
      "outputs": [
        {
          "output_type": "execute_result",
          "data": {
            "text/html": [
              "<div>\n",
              "<style scoped>\n",
              "    .dataframe tbody tr th:only-of-type {\n",
              "        vertical-align: middle;\n",
              "    }\n",
              "\n",
              "    .dataframe tbody tr th {\n",
              "        vertical-align: top;\n",
              "    }\n",
              "\n",
              "    .dataframe thead th {\n",
              "        text-align: right;\n",
              "    }\n",
              "</style>\n",
              "<table border=\"1\" class=\"dataframe\">\n",
              "  <thead>\n",
              "    <tr style=\"text-align: right;\">\n",
              "      <th></th>\n",
              "      <th>Time</th>\n",
              "      <th>V1</th>\n",
              "      <th>V2</th>\n",
              "      <th>V3</th>\n",
              "      <th>V4</th>\n",
              "      <th>V5</th>\n",
              "      <th>V6</th>\n",
              "      <th>V7</th>\n",
              "      <th>V8</th>\n",
              "      <th>V9</th>\n",
              "      <th>V10</th>\n",
              "      <th>V11</th>\n",
              "      <th>V12</th>\n",
              "      <th>V13</th>\n",
              "      <th>V14</th>\n",
              "      <th>V15</th>\n",
              "      <th>V16</th>\n",
              "      <th>V17</th>\n",
              "      <th>V18</th>\n",
              "      <th>V19</th>\n",
              "      <th>V20</th>\n",
              "      <th>V21</th>\n",
              "      <th>V22</th>\n",
              "      <th>V23</th>\n",
              "      <th>V24</th>\n",
              "      <th>V25</th>\n",
              "      <th>V26</th>\n",
              "      <th>V27</th>\n",
              "      <th>V28</th>\n",
              "      <th>Amount</th>\n",
              "      <th>Class</th>\n",
              "    </tr>\n",
              "  </thead>\n",
              "  <tbody>\n",
              "    <tr>\n",
              "      <th>0</th>\n",
              "      <td>0</td>\n",
              "      <td>-1.359807</td>\n",
              "      <td>-0.072781</td>\n",
              "      <td>2.536347</td>\n",
              "      <td>1.378155</td>\n",
              "      <td>-0.338321</td>\n",
              "      <td>0.462388</td>\n",
              "      <td>0.239599</td>\n",
              "      <td>0.098698</td>\n",
              "      <td>0.363787</td>\n",
              "      <td>0.090794</td>\n",
              "      <td>-0.551600</td>\n",
              "      <td>-0.617801</td>\n",
              "      <td>-0.991390</td>\n",
              "      <td>-0.311169</td>\n",
              "      <td>1.468177</td>\n",
              "      <td>-0.470401</td>\n",
              "      <td>0.207971</td>\n",
              "      <td>0.025791</td>\n",
              "      <td>0.403993</td>\n",
              "      <td>0.251412</td>\n",
              "      <td>-0.018307</td>\n",
              "      <td>0.277838</td>\n",
              "      <td>-0.110474</td>\n",
              "      <td>0.066928</td>\n",
              "      <td>0.128539</td>\n",
              "      <td>-0.189115</td>\n",
              "      <td>0.133558</td>\n",
              "      <td>-0.021053</td>\n",
              "      <td>149.62</td>\n",
              "      <td>0.0</td>\n",
              "    </tr>\n",
              "    <tr>\n",
              "      <th>1</th>\n",
              "      <td>0</td>\n",
              "      <td>1.191857</td>\n",
              "      <td>0.266151</td>\n",
              "      <td>0.166480</td>\n",
              "      <td>0.448154</td>\n",
              "      <td>0.060018</td>\n",
              "      <td>-0.082361</td>\n",
              "      <td>-0.078803</td>\n",
              "      <td>0.085102</td>\n",
              "      <td>-0.255425</td>\n",
              "      <td>-0.166974</td>\n",
              "      <td>1.612727</td>\n",
              "      <td>1.065235</td>\n",
              "      <td>0.489095</td>\n",
              "      <td>-0.143772</td>\n",
              "      <td>0.635558</td>\n",
              "      <td>0.463917</td>\n",
              "      <td>-0.114805</td>\n",
              "      <td>-0.183361</td>\n",
              "      <td>-0.145783</td>\n",
              "      <td>-0.069083</td>\n",
              "      <td>-0.225775</td>\n",
              "      <td>-0.638672</td>\n",
              "      <td>0.101288</td>\n",
              "      <td>-0.339846</td>\n",
              "      <td>0.167170</td>\n",
              "      <td>0.125895</td>\n",
              "      <td>-0.008983</td>\n",
              "      <td>0.014724</td>\n",
              "      <td>2.69</td>\n",
              "      <td>0.0</td>\n",
              "    </tr>\n",
              "    <tr>\n",
              "      <th>2</th>\n",
              "      <td>1</td>\n",
              "      <td>-1.358354</td>\n",
              "      <td>-1.340163</td>\n",
              "      <td>1.773209</td>\n",
              "      <td>0.379780</td>\n",
              "      <td>-0.503198</td>\n",
              "      <td>1.800499</td>\n",
              "      <td>0.791461</td>\n",
              "      <td>0.247676</td>\n",
              "      <td>-1.514654</td>\n",
              "      <td>0.207643</td>\n",
              "      <td>0.624501</td>\n",
              "      <td>0.066084</td>\n",
              "      <td>0.717293</td>\n",
              "      <td>-0.165946</td>\n",
              "      <td>2.345865</td>\n",
              "      <td>-2.890083</td>\n",
              "      <td>1.109969</td>\n",
              "      <td>-0.121359</td>\n",
              "      <td>-2.261857</td>\n",
              "      <td>0.524980</td>\n",
              "      <td>0.247998</td>\n",
              "      <td>0.771679</td>\n",
              "      <td>0.909412</td>\n",
              "      <td>-0.689281</td>\n",
              "      <td>-0.327642</td>\n",
              "      <td>-0.139097</td>\n",
              "      <td>-0.055353</td>\n",
              "      <td>-0.059752</td>\n",
              "      <td>378.66</td>\n",
              "      <td>0.0</td>\n",
              "    </tr>\n",
              "    <tr>\n",
              "      <th>3</th>\n",
              "      <td>1</td>\n",
              "      <td>-0.966272</td>\n",
              "      <td>-0.185226</td>\n",
              "      <td>1.792993</td>\n",
              "      <td>-0.863291</td>\n",
              "      <td>-0.010309</td>\n",
              "      <td>1.247203</td>\n",
              "      <td>0.237609</td>\n",
              "      <td>0.377436</td>\n",
              "      <td>-1.387024</td>\n",
              "      <td>-0.054952</td>\n",
              "      <td>-0.226487</td>\n",
              "      <td>0.178228</td>\n",
              "      <td>0.507757</td>\n",
              "      <td>-0.287924</td>\n",
              "      <td>-0.631418</td>\n",
              "      <td>-1.059647</td>\n",
              "      <td>-0.684093</td>\n",
              "      <td>1.965775</td>\n",
              "      <td>-1.232622</td>\n",
              "      <td>-0.208038</td>\n",
              "      <td>-0.108300</td>\n",
              "      <td>0.005274</td>\n",
              "      <td>-0.190321</td>\n",
              "      <td>-1.175575</td>\n",
              "      <td>0.647376</td>\n",
              "      <td>-0.221929</td>\n",
              "      <td>0.062723</td>\n",
              "      <td>0.061458</td>\n",
              "      <td>123.50</td>\n",
              "      <td>0.0</td>\n",
              "    </tr>\n",
              "    <tr>\n",
              "      <th>4</th>\n",
              "      <td>2</td>\n",
              "      <td>-1.158233</td>\n",
              "      <td>0.877737</td>\n",
              "      <td>1.548718</td>\n",
              "      <td>0.403034</td>\n",
              "      <td>-0.407193</td>\n",
              "      <td>0.095921</td>\n",
              "      <td>0.592941</td>\n",
              "      <td>-0.270533</td>\n",
              "      <td>0.817739</td>\n",
              "      <td>0.753074</td>\n",
              "      <td>-0.822843</td>\n",
              "      <td>0.538196</td>\n",
              "      <td>1.345852</td>\n",
              "      <td>-1.119670</td>\n",
              "      <td>0.175121</td>\n",
              "      <td>-0.451449</td>\n",
              "      <td>-0.237033</td>\n",
              "      <td>-0.038195</td>\n",
              "      <td>0.803487</td>\n",
              "      <td>0.408542</td>\n",
              "      <td>-0.009431</td>\n",
              "      <td>0.798278</td>\n",
              "      <td>-0.137458</td>\n",
              "      <td>0.141267</td>\n",
              "      <td>-0.206010</td>\n",
              "      <td>0.502292</td>\n",
              "      <td>0.219422</td>\n",
              "      <td>0.215153</td>\n",
              "      <td>69.99</td>\n",
              "      <td>0.0</td>\n",
              "    </tr>\n",
              "  </tbody>\n",
              "</table>\n",
              "</div>"
            ],
            "text/plain": [
              "   Time        V1        V2        V3  ...       V27       V28  Amount  Class\n",
              "0     0 -1.359807 -0.072781  2.536347  ...  0.133558 -0.021053  149.62    0.0\n",
              "1     0  1.191857  0.266151  0.166480  ... -0.008983  0.014724    2.69    0.0\n",
              "2     1 -1.358354 -1.340163  1.773209  ... -0.055353 -0.059752  378.66    0.0\n",
              "3     1 -0.966272 -0.185226  1.792993  ...  0.062723  0.061458  123.50    0.0\n",
              "4     2 -1.158233  0.877737  1.548718  ...  0.219422  0.215153   69.99    0.0\n",
              "\n",
              "[5 rows x 31 columns]"
            ]
          },
          "metadata": {},
          "execution_count": 4
        }
      ]
    },
    {
      "cell_type": "code",
      "metadata": {
        "colab": {
          "base_uri": "https://localhost:8080/",
          "height": 223
        },
        "id": "l6B9sfz9dX19",
        "outputId": "995abc20-94ec-4d4e-f5d1-5a7cd5a8f1e2"
      },
      "source": [
        "credit_card_data.tail()"
      ],
      "execution_count": 5,
      "outputs": [
        {
          "output_type": "execute_result",
          "data": {
            "text/html": [
              "<div>\n",
              "<style scoped>\n",
              "    .dataframe tbody tr th:only-of-type {\n",
              "        vertical-align: middle;\n",
              "    }\n",
              "\n",
              "    .dataframe tbody tr th {\n",
              "        vertical-align: top;\n",
              "    }\n",
              "\n",
              "    .dataframe thead th {\n",
              "        text-align: right;\n",
              "    }\n",
              "</style>\n",
              "<table border=\"1\" class=\"dataframe\">\n",
              "  <thead>\n",
              "    <tr style=\"text-align: right;\">\n",
              "      <th></th>\n",
              "      <th>Time</th>\n",
              "      <th>V1</th>\n",
              "      <th>V2</th>\n",
              "      <th>V3</th>\n",
              "      <th>V4</th>\n",
              "      <th>V5</th>\n",
              "      <th>V6</th>\n",
              "      <th>V7</th>\n",
              "      <th>V8</th>\n",
              "      <th>V9</th>\n",
              "      <th>V10</th>\n",
              "      <th>V11</th>\n",
              "      <th>V12</th>\n",
              "      <th>V13</th>\n",
              "      <th>V14</th>\n",
              "      <th>V15</th>\n",
              "      <th>V16</th>\n",
              "      <th>V17</th>\n",
              "      <th>V18</th>\n",
              "      <th>V19</th>\n",
              "      <th>V20</th>\n",
              "      <th>V21</th>\n",
              "      <th>V22</th>\n",
              "      <th>V23</th>\n",
              "      <th>V24</th>\n",
              "      <th>V25</th>\n",
              "      <th>V26</th>\n",
              "      <th>V27</th>\n",
              "      <th>V28</th>\n",
              "      <th>Amount</th>\n",
              "      <th>Class</th>\n",
              "    </tr>\n",
              "  </thead>\n",
              "  <tbody>\n",
              "    <tr>\n",
              "      <th>13955</th>\n",
              "      <td>20631</td>\n",
              "      <td>1.504204</td>\n",
              "      <td>-0.411728</td>\n",
              "      <td>0.200090</td>\n",
              "      <td>-0.778753</td>\n",
              "      <td>-0.442232</td>\n",
              "      <td>-0.119677</td>\n",
              "      <td>-0.782660</td>\n",
              "      <td>-0.165178</td>\n",
              "      <td>0.691819</td>\n",
              "      <td>0.247322</td>\n",
              "      <td>-0.530014</td>\n",
              "      <td>-3.515087</td>\n",
              "      <td>2.173069</td>\n",
              "      <td>1.105206</td>\n",
              "      <td>0.231477</td>\n",
              "      <td>1.641043</td>\n",
              "      <td>0.401864</td>\n",
              "      <td>-0.601471</td>\n",
              "      <td>0.799229</td>\n",
              "      <td>0.079309</td>\n",
              "      <td>-0.136231</td>\n",
              "      <td>-0.217274</td>\n",
              "      <td>-0.143260</td>\n",
              "      <td>-1.057332</td>\n",
              "      <td>0.529188</td>\n",
              "      <td>-0.235062</td>\n",
              "      <td>-0.012089</td>\n",
              "      <td>0.000905</td>\n",
              "      <td>9.00</td>\n",
              "      <td>0.0</td>\n",
              "    </tr>\n",
              "    <tr>\n",
              "      <th>13956</th>\n",
              "      <td>20636</td>\n",
              "      <td>1.134994</td>\n",
              "      <td>0.096340</td>\n",
              "      <td>0.277921</td>\n",
              "      <td>0.319692</td>\n",
              "      <td>0.742800</td>\n",
              "      <td>1.611803</td>\n",
              "      <td>-0.458649</td>\n",
              "      <td>0.390012</td>\n",
              "      <td>1.424541</td>\n",
              "      <td>-0.656249</td>\n",
              "      <td>0.969943</td>\n",
              "      <td>-1.977200</td>\n",
              "      <td>2.131005</td>\n",
              "      <td>1.678891</td>\n",
              "      <td>1.480576</td>\n",
              "      <td>-0.682469</td>\n",
              "      <td>1.195737</td>\n",
              "      <td>-1.985939</td>\n",
              "      <td>-1.517055</td>\n",
              "      <td>-0.234249</td>\n",
              "      <td>-0.395605</td>\n",
              "      <td>-0.743542</td>\n",
              "      <td>0.222256</td>\n",
              "      <td>-1.859104</td>\n",
              "      <td>-0.109777</td>\n",
              "      <td>0.279049</td>\n",
              "      <td>0.012398</td>\n",
              "      <td>-0.009090</td>\n",
              "      <td>0.99</td>\n",
              "      <td>0.0</td>\n",
              "    </tr>\n",
              "    <tr>\n",
              "      <th>13957</th>\n",
              "      <td>20638</td>\n",
              "      <td>-6.305012</td>\n",
              "      <td>3.944886</td>\n",
              "      <td>-4.707362</td>\n",
              "      <td>1.539602</td>\n",
              "      <td>-3.934785</td>\n",
              "      <td>-1.730565</td>\n",
              "      <td>-2.104936</td>\n",
              "      <td>3.843447</td>\n",
              "      <td>0.863458</td>\n",
              "      <td>0.255574</td>\n",
              "      <td>-0.578456</td>\n",
              "      <td>-0.933662</td>\n",
              "      <td>1.902331</td>\n",
              "      <td>4.590772</td>\n",
              "      <td>-0.163232</td>\n",
              "      <td>0.562325</td>\n",
              "      <td>2.304264</td>\n",
              "      <td>0.308167</td>\n",
              "      <td>-0.304962</td>\n",
              "      <td>-0.077060</td>\n",
              "      <td>0.073140</td>\n",
              "      <td>-0.039935</td>\n",
              "      <td>-0.108896</td>\n",
              "      <td>0.691434</td>\n",
              "      <td>-0.261979</td>\n",
              "      <td>-0.447540</td>\n",
              "      <td>0.212900</td>\n",
              "      <td>-0.031021</td>\n",
              "      <td>89.99</td>\n",
              "      <td>0.0</td>\n",
              "    </tr>\n",
              "    <tr>\n",
              "      <th>13958</th>\n",
              "      <td>20638</td>\n",
              "      <td>1.161960</td>\n",
              "      <td>-0.398297</td>\n",
              "      <td>1.123732</td>\n",
              "      <td>-0.474237</td>\n",
              "      <td>-1.226667</td>\n",
              "      <td>-0.519325</td>\n",
              "      <td>-0.804179</td>\n",
              "      <td>0.070134</td>\n",
              "      <td>3.262926</td>\n",
              "      <td>-1.464389</td>\n",
              "      <td>0.814818</td>\n",
              "      <td>-2.218547</td>\n",
              "      <td>0.309302</td>\n",
              "      <td>1.577927</td>\n",
              "      <td>0.897422</td>\n",
              "      <td>-0.800820</td>\n",
              "      <td>1.053984</td>\n",
              "      <td>0.057109</td>\n",
              "      <td>-0.123652</td>\n",
              "      <td>-0.267050</td>\n",
              "      <td>-0.121191</td>\n",
              "      <td>0.097255</td>\n",
              "      <td>0.050903</td>\n",
              "      <td>0.330479</td>\n",
              "      <td>0.315692</td>\n",
              "      <td>-0.712765</td>\n",
              "      <td>0.073836</td>\n",
              "      <td>0.028055</td>\n",
              "      <td>11.85</td>\n",
              "      <td>0.0</td>\n",
              "    </tr>\n",
              "    <tr>\n",
              "      <th>13959</th>\n",
              "      <td>20642</td>\n",
              "      <td>1.291096</td>\n",
              "      <td>-0.226628</td>\n",
              "      <td>0.708386</td>\n",
              "      <td>-0.719236</td>\n",
              "      <td>-0.659099</td>\n",
              "      <td>-0.273757</td>\n",
              "      <td>-0.612042</td>\n",
              "      <td>-0.111488</td>\n",
              "      <td>3.032258</td>\n",
              "      <td>-1.478965</td>\n",
              "      <td>-0.094403</td>\n",
              "      <td>-1.584022</td>\n",
              "      <td>2.609250</td>\n",
              "      <td>1.066208</td>\n",
              "      <td>0.502725</td>\n",
              "      <td>-0.266146</td>\n",
              "      <td>0.233377</td>\n",
              "      <td>0.631159</td>\n",
              "      <td>0.660224</td>\n",
              "      <td>NaN</td>\n",
              "      <td>NaN</td>\n",
              "      <td>NaN</td>\n",
              "      <td>NaN</td>\n",
              "      <td>NaN</td>\n",
              "      <td>NaN</td>\n",
              "      <td>NaN</td>\n",
              "      <td>NaN</td>\n",
              "      <td>NaN</td>\n",
              "      <td>NaN</td>\n",
              "      <td>NaN</td>\n",
              "    </tr>\n",
              "  </tbody>\n",
              "</table>\n",
              "</div>"
            ],
            "text/plain": [
              "        Time        V1        V2        V3  ...       V27       V28  Amount  Class\n",
              "13955  20631  1.504204 -0.411728  0.200090  ... -0.012089  0.000905    9.00    0.0\n",
              "13956  20636  1.134994  0.096340  0.277921  ...  0.012398 -0.009090    0.99    0.0\n",
              "13957  20638 -6.305012  3.944886 -4.707362  ...  0.212900 -0.031021   89.99    0.0\n",
              "13958  20638  1.161960 -0.398297  1.123732  ...  0.073836  0.028055   11.85    0.0\n",
              "13959  20642  1.291096 -0.226628  0.708386  ...       NaN       NaN     NaN    NaN\n",
              "\n",
              "[5 rows x 31 columns]"
            ]
          },
          "metadata": {},
          "execution_count": 5
        }
      ]
    },
    {
      "cell_type": "code",
      "metadata": {
        "colab": {
          "base_uri": "https://localhost:8080/"
        },
        "id": "wfb6UvKYdgkK",
        "outputId": "d015a945-c3d5-4f5c-d665-f5f3e2fc9a9e"
      },
      "source": [
        "# dataset informations\n",
        "credit_card_data.info()"
      ],
      "execution_count": 6,
      "outputs": [
        {
          "output_type": "stream",
          "name": "stdout",
          "text": [
            "<class 'pandas.core.frame.DataFrame'>\n",
            "RangeIndex: 13960 entries, 0 to 13959\n",
            "Data columns (total 31 columns):\n",
            " #   Column  Non-Null Count  Dtype  \n",
            "---  ------  --------------  -----  \n",
            " 0   Time    13960 non-null  int64  \n",
            " 1   V1      13960 non-null  float64\n",
            " 2   V2      13960 non-null  float64\n",
            " 3   V3      13960 non-null  float64\n",
            " 4   V4      13960 non-null  float64\n",
            " 5   V5      13960 non-null  float64\n",
            " 6   V6      13960 non-null  float64\n",
            " 7   V7      13960 non-null  float64\n",
            " 8   V8      13960 non-null  float64\n",
            " 9   V9      13960 non-null  float64\n",
            " 10  V10     13960 non-null  float64\n",
            " 11  V11     13960 non-null  float64\n",
            " 12  V12     13960 non-null  float64\n",
            " 13  V13     13960 non-null  float64\n",
            " 14  V14     13960 non-null  float64\n",
            " 15  V15     13960 non-null  float64\n",
            " 16  V16     13960 non-null  float64\n",
            " 17  V17     13960 non-null  float64\n",
            " 18  V18     13960 non-null  float64\n",
            " 19  V19     13960 non-null  float64\n",
            " 20  V20     13959 non-null  float64\n",
            " 21  V21     13959 non-null  float64\n",
            " 22  V22     13959 non-null  float64\n",
            " 23  V23     13959 non-null  float64\n",
            " 24  V24     13959 non-null  float64\n",
            " 25  V25     13959 non-null  float64\n",
            " 26  V26     13958 non-null  float64\n",
            " 27  V27     13958 non-null  float64\n",
            " 28  V28     13958 non-null  float64\n",
            " 29  Amount  13958 non-null  float64\n",
            " 30  Class   13958 non-null  float64\n",
            "dtypes: float64(30), int64(1)\n",
            "memory usage: 3.3 MB\n"
          ]
        }
      ]
    },
    {
      "cell_type": "code",
      "metadata": {
        "colab": {
          "base_uri": "https://localhost:8080/"
        },
        "id": "GvAuAU8zdjvB",
        "outputId": "02f78cba-d136-4492-e334-565fe36f7539"
      },
      "source": [
        "# checking the number of missing values in each column\n",
        "credit_card_data.isnull().sum()"
      ],
      "execution_count": 7,
      "outputs": [
        {
          "output_type": "execute_result",
          "data": {
            "text/plain": [
              "Time      0\n",
              "V1        0\n",
              "V2        0\n",
              "V3        0\n",
              "V4        0\n",
              "V5        0\n",
              "V6        0\n",
              "V7        0\n",
              "V8        0\n",
              "V9        0\n",
              "V10       0\n",
              "V11       0\n",
              "V12       0\n",
              "V13       0\n",
              "V14       0\n",
              "V15       0\n",
              "V16       0\n",
              "V17       0\n",
              "V18       0\n",
              "V19       0\n",
              "V20       1\n",
              "V21       1\n",
              "V22       1\n",
              "V23       1\n",
              "V24       1\n",
              "V25       1\n",
              "V26       2\n",
              "V27       2\n",
              "V28       2\n",
              "Amount    2\n",
              "Class     2\n",
              "dtype: int64"
            ]
          },
          "metadata": {},
          "execution_count": 7
        }
      ]
    },
    {
      "cell_type": "code",
      "metadata": {
        "colab": {
          "base_uri": "https://localhost:8080/"
        },
        "id": "rLspnJH0dm9m",
        "outputId": "afd654d4-0e2f-4fba-d4be-7acd6f76702b"
      },
      "source": [
        "# distribution of legit transactions & fraudulent transactions\n",
        "credit_card_data['Class'].value_counts()"
      ],
      "execution_count": 8,
      "outputs": [
        {
          "output_type": "execute_result",
          "data": {
            "text/plain": [
              "0.0    13905\n",
              "1.0       53\n",
              "Name: Class, dtype: int64"
            ]
          },
          "metadata": {},
          "execution_count": 8
        }
      ]
    },
    {
      "cell_type": "markdown",
      "metadata": {
        "id": "N76CUhERduUg"
      },
      "source": [
        "This Dataset is highly unblanced"
      ]
    },
    {
      "cell_type": "markdown",
      "metadata": {
        "id": "qfQHxvYVdvgs"
      },
      "source": [
        "0 --> Normal Transaction\n",
        "\n",
        "1 --> fraudulent transaction"
      ]
    },
    {
      "cell_type": "code",
      "metadata": {
        "id": "xUGHR0Aydqpd"
      },
      "source": [
        "# separating the data for analysis\n",
        "legit = credit_card_data[credit_card_data.Class == 0]\n",
        "fraud = credit_card_data[credit_card_data.Class == 1]"
      ],
      "execution_count": 9,
      "outputs": []
    },
    {
      "cell_type": "code",
      "metadata": {
        "colab": {
          "base_uri": "https://localhost:8080/"
        },
        "id": "cYBToEPfd3ex",
        "outputId": "8d7254a2-51ab-4b10-efc5-b55dc949f4c9"
      },
      "source": [
        "print(legit.shape)\n",
        "print(fraud.shape)"
      ],
      "execution_count": 10,
      "outputs": [
        {
          "output_type": "stream",
          "name": "stdout",
          "text": [
            "(13905, 31)\n",
            "(53, 31)\n"
          ]
        }
      ]
    },
    {
      "cell_type": "code",
      "metadata": {
        "colab": {
          "base_uri": "https://localhost:8080/"
        },
        "id": "lRC3BOBVd6p_",
        "outputId": "8a63c3de-05ee-46c9-904b-9dc6417c35b3"
      },
      "source": [
        "# statistical measures of the data\n",
        "legit.Amount.describe()"
      ],
      "execution_count": 11,
      "outputs": [
        {
          "output_type": "execute_result",
          "data": {
            "text/plain": [
              "count    13905.000000\n",
              "mean        62.617401\n",
              "std        172.661337\n",
              "min          0.000000\n",
              "25%          5.910000\n",
              "50%         15.950000\n",
              "75%         51.790000\n",
              "max       7712.430000\n",
              "Name: Amount, dtype: float64"
            ]
          },
          "metadata": {},
          "execution_count": 11
        }
      ]
    },
    {
      "cell_type": "code",
      "metadata": {
        "colab": {
          "base_uri": "https://localhost:8080/"
        },
        "id": "vD0UeVm0d-Y6",
        "outputId": "554b162a-fdab-4496-f077-93910495a705"
      },
      "source": [
        "fraud.Amount.describe()"
      ],
      "execution_count": 12,
      "outputs": [
        {
          "output_type": "execute_result",
          "data": {
            "text/plain": [
              "count      53.000000\n",
              "mean      100.407925\n",
              "std       318.684630\n",
              "min         0.000000\n",
              "25%         1.000000\n",
              "50%         1.000000\n",
              "75%         3.790000\n",
              "max      1809.680000\n",
              "Name: Amount, dtype: float64"
            ]
          },
          "metadata": {},
          "execution_count": 12
        }
      ]
    },
    {
      "cell_type": "code",
      "metadata": {
        "colab": {
          "base_uri": "https://localhost:8080/",
          "height": 162
        },
        "id": "0-rne30QeDIu",
        "outputId": "0a5bbf46-eff6-4915-fe18-d652cd781548"
      },
      "source": [
        "# compare the values for both transactions\n",
        "credit_card_data.groupby('Class').mean()"
      ],
      "execution_count": 13,
      "outputs": [
        {
          "output_type": "execute_result",
          "data": {
            "text/html": [
              "<div>\n",
              "<style scoped>\n",
              "    .dataframe tbody tr th:only-of-type {\n",
              "        vertical-align: middle;\n",
              "    }\n",
              "\n",
              "    .dataframe tbody tr th {\n",
              "        vertical-align: top;\n",
              "    }\n",
              "\n",
              "    .dataframe thead th {\n",
              "        text-align: right;\n",
              "    }\n",
              "</style>\n",
              "<table border=\"1\" class=\"dataframe\">\n",
              "  <thead>\n",
              "    <tr style=\"text-align: right;\">\n",
              "      <th></th>\n",
              "      <th>Time</th>\n",
              "      <th>V1</th>\n",
              "      <th>V2</th>\n",
              "      <th>V3</th>\n",
              "      <th>V4</th>\n",
              "      <th>V5</th>\n",
              "      <th>V6</th>\n",
              "      <th>V7</th>\n",
              "      <th>V8</th>\n",
              "      <th>V9</th>\n",
              "      <th>V10</th>\n",
              "      <th>V11</th>\n",
              "      <th>V12</th>\n",
              "      <th>V13</th>\n",
              "      <th>V14</th>\n",
              "      <th>V15</th>\n",
              "      <th>V16</th>\n",
              "      <th>V17</th>\n",
              "      <th>V18</th>\n",
              "      <th>V19</th>\n",
              "      <th>V20</th>\n",
              "      <th>V21</th>\n",
              "      <th>V22</th>\n",
              "      <th>V23</th>\n",
              "      <th>V24</th>\n",
              "      <th>V25</th>\n",
              "      <th>V26</th>\n",
              "      <th>V27</th>\n",
              "      <th>V28</th>\n",
              "      <th>Amount</th>\n",
              "    </tr>\n",
              "    <tr>\n",
              "      <th>Class</th>\n",
              "      <th></th>\n",
              "      <th></th>\n",
              "      <th></th>\n",
              "      <th></th>\n",
              "      <th></th>\n",
              "      <th></th>\n",
              "      <th></th>\n",
              "      <th></th>\n",
              "      <th></th>\n",
              "      <th></th>\n",
              "      <th></th>\n",
              "      <th></th>\n",
              "      <th></th>\n",
              "      <th></th>\n",
              "      <th></th>\n",
              "      <th></th>\n",
              "      <th></th>\n",
              "      <th></th>\n",
              "      <th></th>\n",
              "      <th></th>\n",
              "      <th></th>\n",
              "      <th></th>\n",
              "      <th></th>\n",
              "      <th></th>\n",
              "      <th></th>\n",
              "      <th></th>\n",
              "      <th></th>\n",
              "      <th></th>\n",
              "      <th></th>\n",
              "      <th></th>\n",
              "    </tr>\n",
              "  </thead>\n",
              "  <tbody>\n",
              "    <tr>\n",
              "      <th>0.0</th>\n",
              "      <td>7525.609996</td>\n",
              "      <td>-0.190759</td>\n",
              "      <td>0.256754</td>\n",
              "      <td>0.919049</td>\n",
              "      <td>0.259957</td>\n",
              "      <td>-0.056852</td>\n",
              "      <td>0.196485</td>\n",
              "      <td>-0.117536</td>\n",
              "      <td>-0.041800</td>\n",
              "      <td>0.948490</td>\n",
              "      <td>-0.249523</td>\n",
              "      <td>0.840659</td>\n",
              "      <td>-1.545288</td>\n",
              "      <td>1.021872</td>\n",
              "      <td>0.898954</td>\n",
              "      <td>-0.198743</td>\n",
              "      <td>0.020783</td>\n",
              "      <td>0.457342</td>\n",
              "      <td>-0.02264</td>\n",
              "      <td>-0.072848</td>\n",
              "      <td>0.024606</td>\n",
              "      <td>-0.075490</td>\n",
              "      <td>-0.177871</td>\n",
              "      <td>-0.026686</td>\n",
              "      <td>0.020377</td>\n",
              "      <td>0.102054</td>\n",
              "      <td>0.039295</td>\n",
              "      <td>0.002637</td>\n",
              "      <td>0.001893</td>\n",
              "      <td>62.617401</td>\n",
              "    </tr>\n",
              "    <tr>\n",
              "      <th>1.0</th>\n",
              "      <td>11435.509434</td>\n",
              "      <td>-3.741448</td>\n",
              "      <td>4.210880</td>\n",
              "      <td>-8.054355</td>\n",
              "      <td>6.319676</td>\n",
              "      <td>-2.313737</td>\n",
              "      <td>-1.954434</td>\n",
              "      <td>-5.621292</td>\n",
              "      <td>0.925182</td>\n",
              "      <td>-2.682759</td>\n",
              "      <td>-6.984619</td>\n",
              "      <td>6.590005</td>\n",
              "      <td>-10.285992</td>\n",
              "      <td>0.510247</td>\n",
              "      <td>-9.573349</td>\n",
              "      <td>-0.252661</td>\n",
              "      <td>-4.982615</td>\n",
              "      <td>-7.118854</td>\n",
              "      <td>-2.35123</td>\n",
              "      <td>0.220416</td>\n",
              "      <td>0.395363</td>\n",
              "      <td>0.293949</td>\n",
              "      <td>-0.038944</td>\n",
              "      <td>-0.330878</td>\n",
              "      <td>-0.400293</td>\n",
              "      <td>-0.139819</td>\n",
              "      <td>0.290936</td>\n",
              "      <td>0.680599</td>\n",
              "      <td>0.055737</td>\n",
              "      <td>100.407925</td>\n",
              "    </tr>\n",
              "  </tbody>\n",
              "</table>\n",
              "</div>"
            ],
            "text/plain": [
              "               Time        V1        V2  ...       V27       V28      Amount\n",
              "Class                                    ...                                \n",
              "0.0     7525.609996 -0.190759  0.256754  ...  0.002637  0.001893   62.617401\n",
              "1.0    11435.509434 -3.741448  4.210880  ...  0.680599  0.055737  100.407925\n",
              "\n",
              "[2 rows x 30 columns]"
            ]
          },
          "metadata": {},
          "execution_count": 13
        }
      ]
    },
    {
      "cell_type": "markdown",
      "metadata": {
        "id": "hgJU1wD0eUQd"
      },
      "source": [
        "Under-Sampling"
      ]
    },
    {
      "cell_type": "markdown",
      "metadata": {
        "id": "C_5PvJGfeVMr"
      },
      "source": [
        "Build a sample dataset containing similar distribution of normal transactions and Fraudulent Transactions"
      ]
    },
    {
      "cell_type": "markdown",
      "metadata": {
        "id": "E7xjbBsUefQB"
      },
      "source": [
        "Number of Fraudulent Transactions --> 492"
      ]
    },
    {
      "cell_type": "code",
      "metadata": {
        "id": "brqNlxoCeHB1"
      },
      "source": [
        "legit_sample = legit.sample(n=492)"
      ],
      "execution_count": 14,
      "outputs": []
    },
    {
      "cell_type": "markdown",
      "metadata": {
        "id": "FyJpbTTQepJU"
      },
      "source": [
        "Concatenating two DataFrames"
      ]
    },
    {
      "cell_type": "code",
      "metadata": {
        "id": "6tLxakVwelBT"
      },
      "source": [
        "new_dataset = pd.concat([legit_sample, fraud], axis=0)"
      ],
      "execution_count": 15,
      "outputs": []
    },
    {
      "cell_type": "code",
      "metadata": {
        "colab": {
          "base_uri": "https://localhost:8080/",
          "height": 223
        },
        "id": "x2fiZwS4esCH",
        "outputId": "72717805-8e91-4d61-b6fb-1b792a3166e4"
      },
      "source": [
        "new_dataset.head()"
      ],
      "execution_count": 16,
      "outputs": [
        {
          "output_type": "execute_result",
          "data": {
            "text/html": [
              "<div>\n",
              "<style scoped>\n",
              "    .dataframe tbody tr th:only-of-type {\n",
              "        vertical-align: middle;\n",
              "    }\n",
              "\n",
              "    .dataframe tbody tr th {\n",
              "        vertical-align: top;\n",
              "    }\n",
              "\n",
              "    .dataframe thead th {\n",
              "        text-align: right;\n",
              "    }\n",
              "</style>\n",
              "<table border=\"1\" class=\"dataframe\">\n",
              "  <thead>\n",
              "    <tr style=\"text-align: right;\">\n",
              "      <th></th>\n",
              "      <th>Time</th>\n",
              "      <th>V1</th>\n",
              "      <th>V2</th>\n",
              "      <th>V3</th>\n",
              "      <th>V4</th>\n",
              "      <th>V5</th>\n",
              "      <th>V6</th>\n",
              "      <th>V7</th>\n",
              "      <th>V8</th>\n",
              "      <th>V9</th>\n",
              "      <th>V10</th>\n",
              "      <th>V11</th>\n",
              "      <th>V12</th>\n",
              "      <th>V13</th>\n",
              "      <th>V14</th>\n",
              "      <th>V15</th>\n",
              "      <th>V16</th>\n",
              "      <th>V17</th>\n",
              "      <th>V18</th>\n",
              "      <th>V19</th>\n",
              "      <th>V20</th>\n",
              "      <th>V21</th>\n",
              "      <th>V22</th>\n",
              "      <th>V23</th>\n",
              "      <th>V24</th>\n",
              "      <th>V25</th>\n",
              "      <th>V26</th>\n",
              "      <th>V27</th>\n",
              "      <th>V28</th>\n",
              "      <th>Amount</th>\n",
              "      <th>Class</th>\n",
              "    </tr>\n",
              "  </thead>\n",
              "  <tbody>\n",
              "    <tr>\n",
              "      <th>1860</th>\n",
              "      <td>1438</td>\n",
              "      <td>-1.768929</td>\n",
              "      <td>1.208230</td>\n",
              "      <td>1.832726</td>\n",
              "      <td>-0.922455</td>\n",
              "      <td>0.213062</td>\n",
              "      <td>-0.803723</td>\n",
              "      <td>0.707416</td>\n",
              "      <td>-0.155229</td>\n",
              "      <td>0.358657</td>\n",
              "      <td>0.656303</td>\n",
              "      <td>1.446648</td>\n",
              "      <td>0.999284</td>\n",
              "      <td>0.111245</td>\n",
              "      <td>-0.457734</td>\n",
              "      <td>-0.888346</td>\n",
              "      <td>-0.013168</td>\n",
              "      <td>-0.606245</td>\n",
              "      <td>-0.324304</td>\n",
              "      <td>-0.076869</td>\n",
              "      <td>0.360090</td>\n",
              "      <td>-0.353946</td>\n",
              "      <td>-0.441542</td>\n",
              "      <td>-0.386752</td>\n",
              "      <td>0.572037</td>\n",
              "      <td>0.436299</td>\n",
              "      <td>0.336306</td>\n",
              "      <td>0.325751</td>\n",
              "      <td>0.029609</td>\n",
              "      <td>5.00</td>\n",
              "      <td>0.0</td>\n",
              "    </tr>\n",
              "    <tr>\n",
              "      <th>8784</th>\n",
              "      <td>8544</td>\n",
              "      <td>-6.571336</td>\n",
              "      <td>-11.943892</td>\n",
              "      <td>-4.246322</td>\n",
              "      <td>6.825816</td>\n",
              "      <td>-2.896624</td>\n",
              "      <td>2.706661</td>\n",
              "      <td>5.373923</td>\n",
              "      <td>-0.872187</td>\n",
              "      <td>-0.626203</td>\n",
              "      <td>-0.955356</td>\n",
              "      <td>0.951596</td>\n",
              "      <td>-2.136055</td>\n",
              "      <td>2.352625</td>\n",
              "      <td>2.669868</td>\n",
              "      <td>-1.412917</td>\n",
              "      <td>1.233990</td>\n",
              "      <td>0.038883</td>\n",
              "      <td>0.915151</td>\n",
              "      <td>-2.348414</td>\n",
              "      <td>7.922141</td>\n",
              "      <td>2.220493</td>\n",
              "      <td>-2.395098</td>\n",
              "      <td>-3.731391</td>\n",
              "      <td>-1.015761</td>\n",
              "      <td>-0.740824</td>\n",
              "      <td>-0.297883</td>\n",
              "      <td>-0.793710</td>\n",
              "      <td>0.680622</td>\n",
              "      <td>4002.88</td>\n",
              "      <td>0.0</td>\n",
              "    </tr>\n",
              "    <tr>\n",
              "      <th>8739</th>\n",
              "      <td>8458</td>\n",
              "      <td>1.259861</td>\n",
              "      <td>0.555062</td>\n",
              "      <td>0.473578</td>\n",
              "      <td>0.885370</td>\n",
              "      <td>-0.188364</td>\n",
              "      <td>-0.997164</td>\n",
              "      <td>0.077286</td>\n",
              "      <td>-0.353965</td>\n",
              "      <td>1.132149</td>\n",
              "      <td>-0.689272</td>\n",
              "      <td>1.090281</td>\n",
              "      <td>-1.621127</td>\n",
              "      <td>3.089313</td>\n",
              "      <td>0.903696</td>\n",
              "      <td>0.222252</td>\n",
              "      <td>0.391852</td>\n",
              "      <td>0.657196</td>\n",
              "      <td>-0.175947</td>\n",
              "      <td>-0.410024</td>\n",
              "      <td>-0.045239</td>\n",
              "      <td>-0.423910</td>\n",
              "      <td>-0.916018</td>\n",
              "      <td>0.126287</td>\n",
              "      <td>0.317854</td>\n",
              "      <td>0.234281</td>\n",
              "      <td>0.051683</td>\n",
              "      <td>-0.041843</td>\n",
              "      <td>0.027073</td>\n",
              "      <td>1.98</td>\n",
              "      <td>0.0</td>\n",
              "    </tr>\n",
              "    <tr>\n",
              "      <th>2198</th>\n",
              "      <td>1719</td>\n",
              "      <td>1.169806</td>\n",
              "      <td>0.188238</td>\n",
              "      <td>0.400703</td>\n",
              "      <td>1.394425</td>\n",
              "      <td>-0.179357</td>\n",
              "      <td>-0.190393</td>\n",
              "      <td>0.037884</td>\n",
              "      <td>0.007890</td>\n",
              "      <td>0.350622</td>\n",
              "      <td>-0.111892</td>\n",
              "      <td>-0.603415</td>\n",
              "      <td>0.320828</td>\n",
              "      <td>-0.523983</td>\n",
              "      <td>0.143231</td>\n",
              "      <td>-0.051253</td>\n",
              "      <td>-0.705097</td>\n",
              "      <td>0.285938</td>\n",
              "      <td>-0.930627</td>\n",
              "      <td>-0.364180</td>\n",
              "      <td>-0.220989</td>\n",
              "      <td>-0.107995</td>\n",
              "      <td>-0.087074</td>\n",
              "      <td>-0.054819</td>\n",
              "      <td>0.083982</td>\n",
              "      <td>0.650956</td>\n",
              "      <td>-0.311201</td>\n",
              "      <td>0.037833</td>\n",
              "      <td>0.014719</td>\n",
              "      <td>5.64</td>\n",
              "      <td>0.0</td>\n",
              "    </tr>\n",
              "    <tr>\n",
              "      <th>11042</th>\n",
              "      <td>12603</td>\n",
              "      <td>-2.591475</td>\n",
              "      <td>0.718685</td>\n",
              "      <td>0.553767</td>\n",
              "      <td>2.860996</td>\n",
              "      <td>1.596864</td>\n",
              "      <td>0.417922</td>\n",
              "      <td>0.696817</td>\n",
              "      <td>-0.255986</td>\n",
              "      <td>-0.429862</td>\n",
              "      <td>1.194257</td>\n",
              "      <td>1.183344</td>\n",
              "      <td>-2.333825</td>\n",
              "      <td>2.771619</td>\n",
              "      <td>1.677280</td>\n",
              "      <td>-0.222506</td>\n",
              "      <td>0.236437</td>\n",
              "      <td>0.078508</td>\n",
              "      <td>0.880063</td>\n",
              "      <td>1.793938</td>\n",
              "      <td>-1.158085</td>\n",
              "      <td>-0.484022</td>\n",
              "      <td>0.122769</td>\n",
              "      <td>0.541772</td>\n",
              "      <td>-0.949235</td>\n",
              "      <td>0.839878</td>\n",
              "      <td>0.370198</td>\n",
              "      <td>-0.489857</td>\n",
              "      <td>-0.544382</td>\n",
              "      <td>25.06</td>\n",
              "      <td>0.0</td>\n",
              "    </tr>\n",
              "  </tbody>\n",
              "</table>\n",
              "</div>"
            ],
            "text/plain": [
              "        Time        V1         V2        V3  ...       V27       V28   Amount  Class\n",
              "1860    1438 -1.768929   1.208230  1.832726  ...  0.325751  0.029609     5.00    0.0\n",
              "8784    8544 -6.571336 -11.943892 -4.246322  ... -0.793710  0.680622  4002.88    0.0\n",
              "8739    8458  1.259861   0.555062  0.473578  ... -0.041843  0.027073     1.98    0.0\n",
              "2198    1719  1.169806   0.188238  0.400703  ...  0.037833  0.014719     5.64    0.0\n",
              "11042  12603 -2.591475   0.718685  0.553767  ... -0.489857 -0.544382    25.06    0.0\n",
              "\n",
              "[5 rows x 31 columns]"
            ]
          },
          "metadata": {},
          "execution_count": 16
        }
      ]
    },
    {
      "cell_type": "code",
      "metadata": {
        "colab": {
          "base_uri": "https://localhost:8080/",
          "height": 223
        },
        "id": "o760tbPcewAK",
        "outputId": "edb7c7e1-f99b-4a1e-b7a6-925e6033d2ad"
      },
      "source": [
        "new_dataset.tail()"
      ],
      "execution_count": 17,
      "outputs": [
        {
          "output_type": "execute_result",
          "data": {
            "text/html": [
              "<div>\n",
              "<style scoped>\n",
              "    .dataframe tbody tr th:only-of-type {\n",
              "        vertical-align: middle;\n",
              "    }\n",
              "\n",
              "    .dataframe tbody tr th {\n",
              "        vertical-align: top;\n",
              "    }\n",
              "\n",
              "    .dataframe thead th {\n",
              "        text-align: right;\n",
              "    }\n",
              "</style>\n",
              "<table border=\"1\" class=\"dataframe\">\n",
              "  <thead>\n",
              "    <tr style=\"text-align: right;\">\n",
              "      <th></th>\n",
              "      <th>Time</th>\n",
              "      <th>V1</th>\n",
              "      <th>V2</th>\n",
              "      <th>V3</th>\n",
              "      <th>V4</th>\n",
              "      <th>V5</th>\n",
              "      <th>V6</th>\n",
              "      <th>V7</th>\n",
              "      <th>V8</th>\n",
              "      <th>V9</th>\n",
              "      <th>V10</th>\n",
              "      <th>V11</th>\n",
              "      <th>V12</th>\n",
              "      <th>V13</th>\n",
              "      <th>V14</th>\n",
              "      <th>V15</th>\n",
              "      <th>V16</th>\n",
              "      <th>V17</th>\n",
              "      <th>V18</th>\n",
              "      <th>V19</th>\n",
              "      <th>V20</th>\n",
              "      <th>V21</th>\n",
              "      <th>V22</th>\n",
              "      <th>V23</th>\n",
              "      <th>V24</th>\n",
              "      <th>V25</th>\n",
              "      <th>V26</th>\n",
              "      <th>V27</th>\n",
              "      <th>V28</th>\n",
              "      <th>Amount</th>\n",
              "      <th>Class</th>\n",
              "    </tr>\n",
              "  </thead>\n",
              "  <tbody>\n",
              "    <tr>\n",
              "      <th>12898</th>\n",
              "      <td>18690</td>\n",
              "      <td>-15.398845</td>\n",
              "      <td>7.472324</td>\n",
              "      <td>-19.026912</td>\n",
              "      <td>11.165526</td>\n",
              "      <td>-6.893856</td>\n",
              "      <td>-2.120937</td>\n",
              "      <td>-14.913330</td>\n",
              "      <td>-0.721214</td>\n",
              "      <td>-7.175097</td>\n",
              "      <td>-14.166795</td>\n",
              "      <td>10.277769</td>\n",
              "      <td>-14.985434</td>\n",
              "      <td>0.345179</td>\n",
              "      <td>-14.666389</td>\n",
              "      <td>-0.346353</td>\n",
              "      <td>-8.333242</td>\n",
              "      <td>-12.602596</td>\n",
              "      <td>-4.876683</td>\n",
              "      <td>0.604626</td>\n",
              "      <td>1.111502</td>\n",
              "      <td>-2.444884</td>\n",
              "      <td>0.727495</td>\n",
              "      <td>-0.345078</td>\n",
              "      <td>-0.981749</td>\n",
              "      <td>0.995271</td>\n",
              "      <td>0.816762</td>\n",
              "      <td>2.262942</td>\n",
              "      <td>-1.178063</td>\n",
              "      <td>1.0</td>\n",
              "      <td>1.0</td>\n",
              "    </tr>\n",
              "    <tr>\n",
              "      <th>13344</th>\n",
              "      <td>19762</td>\n",
              "      <td>-14.179165</td>\n",
              "      <td>7.421370</td>\n",
              "      <td>-21.405836</td>\n",
              "      <td>11.927512</td>\n",
              "      <td>-7.974281</td>\n",
              "      <td>-2.202710</td>\n",
              "      <td>-15.471612</td>\n",
              "      <td>-0.356595</td>\n",
              "      <td>-6.380125</td>\n",
              "      <td>-13.348278</td>\n",
              "      <td>10.187587</td>\n",
              "      <td>-14.563980</td>\n",
              "      <td>0.593759</td>\n",
              "      <td>-14.491598</td>\n",
              "      <td>-0.281393</td>\n",
              "      <td>-8.264129</td>\n",
              "      <td>-12.439805</td>\n",
              "      <td>-4.837079</td>\n",
              "      <td>0.753150</td>\n",
              "      <td>1.002764</td>\n",
              "      <td>-2.366836</td>\n",
              "      <td>1.130955</td>\n",
              "      <td>0.991153</td>\n",
              "      <td>-1.033132</td>\n",
              "      <td>-0.327179</td>\n",
              "      <td>0.634693</td>\n",
              "      <td>2.171905</td>\n",
              "      <td>-1.395288</td>\n",
              "      <td>1.0</td>\n",
              "      <td>1.0</td>\n",
              "    </tr>\n",
              "    <tr>\n",
              "      <th>13711</th>\n",
              "      <td>20011</td>\n",
              "      <td>-14.724627</td>\n",
              "      <td>7.875157</td>\n",
              "      <td>-21.872317</td>\n",
              "      <td>11.906170</td>\n",
              "      <td>-8.348734</td>\n",
              "      <td>-2.262846</td>\n",
              "      <td>-15.833443</td>\n",
              "      <td>0.077874</td>\n",
              "      <td>-6.356833</td>\n",
              "      <td>-13.261652</td>\n",
              "      <td>10.063790</td>\n",
              "      <td>-14.394767</td>\n",
              "      <td>0.654889</td>\n",
              "      <td>-14.248316</td>\n",
              "      <td>-0.305361</td>\n",
              "      <td>-8.161632</td>\n",
              "      <td>-12.280965</td>\n",
              "      <td>-4.818586</td>\n",
              "      <td>0.719788</td>\n",
              "      <td>0.996469</td>\n",
              "      <td>-2.362345</td>\n",
              "      <td>1.099557</td>\n",
              "      <td>1.037199</td>\n",
              "      <td>-1.036359</td>\n",
              "      <td>-0.254777</td>\n",
              "      <td>0.642343</td>\n",
              "      <td>2.161129</td>\n",
              "      <td>-1.401282</td>\n",
              "      <td>1.0</td>\n",
              "      <td>1.0</td>\n",
              "    </tr>\n",
              "    <tr>\n",
              "      <th>13842</th>\n",
              "      <td>20332</td>\n",
              "      <td>-15.271362</td>\n",
              "      <td>8.326581</td>\n",
              "      <td>-22.338591</td>\n",
              "      <td>11.885313</td>\n",
              "      <td>-8.721334</td>\n",
              "      <td>-2.324307</td>\n",
              "      <td>-16.196419</td>\n",
              "      <td>0.512882</td>\n",
              "      <td>-6.333685</td>\n",
              "      <td>-13.175198</td>\n",
              "      <td>9.939820</td>\n",
              "      <td>-14.225456</td>\n",
              "      <td>0.716034</td>\n",
              "      <td>-14.004776</td>\n",
              "      <td>-0.329448</td>\n",
              "      <td>-8.059419</td>\n",
              "      <td>-12.122009</td>\n",
              "      <td>-4.799710</td>\n",
              "      <td>0.686227</td>\n",
              "      <td>0.993121</td>\n",
              "      <td>-2.356896</td>\n",
              "      <td>1.068019</td>\n",
              "      <td>1.085617</td>\n",
              "      <td>-1.039797</td>\n",
              "      <td>-0.182006</td>\n",
              "      <td>0.649921</td>\n",
              "      <td>2.149247</td>\n",
              "      <td>-1.406811</td>\n",
              "      <td>1.0</td>\n",
              "      <td>1.0</td>\n",
              "    </tr>\n",
              "    <tr>\n",
              "      <th>13881</th>\n",
              "      <td>20451</td>\n",
              "      <td>-15.819179</td>\n",
              "      <td>8.775997</td>\n",
              "      <td>-22.804686</td>\n",
              "      <td>11.864868</td>\n",
              "      <td>-9.092361</td>\n",
              "      <td>-2.386893</td>\n",
              "      <td>-16.560368</td>\n",
              "      <td>0.948349</td>\n",
              "      <td>-6.310658</td>\n",
              "      <td>-13.088891</td>\n",
              "      <td>9.815703</td>\n",
              "      <td>-14.056061</td>\n",
              "      <td>0.777192</td>\n",
              "      <td>-13.761018</td>\n",
              "      <td>-0.353636</td>\n",
              "      <td>-7.957447</td>\n",
              "      <td>-11.962954</td>\n",
              "      <td>-4.780508</td>\n",
              "      <td>0.652498</td>\n",
              "      <td>0.992279</td>\n",
              "      <td>-2.350634</td>\n",
              "      <td>1.036362</td>\n",
              "      <td>1.136051</td>\n",
              "      <td>-1.043414</td>\n",
              "      <td>-0.108923</td>\n",
              "      <td>0.657437</td>\n",
              "      <td>2.136424</td>\n",
              "      <td>-1.411945</td>\n",
              "      <td>1.0</td>\n",
              "      <td>1.0</td>\n",
              "    </tr>\n",
              "  </tbody>\n",
              "</table>\n",
              "</div>"
            ],
            "text/plain": [
              "        Time         V1        V2         V3  ...       V27       V28  Amount  Class\n",
              "12898  18690 -15.398845  7.472324 -19.026912  ...  2.262942 -1.178063     1.0    1.0\n",
              "13344  19762 -14.179165  7.421370 -21.405836  ...  2.171905 -1.395288     1.0    1.0\n",
              "13711  20011 -14.724627  7.875157 -21.872317  ...  2.161129 -1.401282     1.0    1.0\n",
              "13842  20332 -15.271362  8.326581 -22.338591  ...  2.149247 -1.406811     1.0    1.0\n",
              "13881  20451 -15.819179  8.775997 -22.804686  ...  2.136424 -1.411945     1.0    1.0\n",
              "\n",
              "[5 rows x 31 columns]"
            ]
          },
          "metadata": {},
          "execution_count": 17
        }
      ]
    },
    {
      "cell_type": "code",
      "metadata": {
        "colab": {
          "base_uri": "https://localhost:8080/"
        },
        "id": "JlpeKjeEezjz",
        "outputId": "b2579c76-1865-46ad-8b7e-4f61d10a9579"
      },
      "source": [
        "new_dataset['Class'].value_counts()"
      ],
      "execution_count": 18,
      "outputs": [
        {
          "output_type": "execute_result",
          "data": {
            "text/plain": [
              "0.0    492\n",
              "1.0     53\n",
              "Name: Class, dtype: int64"
            ]
          },
          "metadata": {},
          "execution_count": 18
        }
      ]
    },
    {
      "cell_type": "code",
      "metadata": {
        "colab": {
          "base_uri": "https://localhost:8080/",
          "height": 162
        },
        "id": "qhpzJFnne2qH",
        "outputId": "12517ba7-a20c-4b90-eafc-a8b84e38bec6"
      },
      "source": [
        "new_dataset.groupby('Class').mean()"
      ],
      "execution_count": 19,
      "outputs": [
        {
          "output_type": "execute_result",
          "data": {
            "text/html": [
              "<div>\n",
              "<style scoped>\n",
              "    .dataframe tbody tr th:only-of-type {\n",
              "        vertical-align: middle;\n",
              "    }\n",
              "\n",
              "    .dataframe tbody tr th {\n",
              "        vertical-align: top;\n",
              "    }\n",
              "\n",
              "    .dataframe thead th {\n",
              "        text-align: right;\n",
              "    }\n",
              "</style>\n",
              "<table border=\"1\" class=\"dataframe\">\n",
              "  <thead>\n",
              "    <tr style=\"text-align: right;\">\n",
              "      <th></th>\n",
              "      <th>Time</th>\n",
              "      <th>V1</th>\n",
              "      <th>V2</th>\n",
              "      <th>V3</th>\n",
              "      <th>V4</th>\n",
              "      <th>V5</th>\n",
              "      <th>V6</th>\n",
              "      <th>V7</th>\n",
              "      <th>V8</th>\n",
              "      <th>V9</th>\n",
              "      <th>V10</th>\n",
              "      <th>V11</th>\n",
              "      <th>V12</th>\n",
              "      <th>V13</th>\n",
              "      <th>V14</th>\n",
              "      <th>V15</th>\n",
              "      <th>V16</th>\n",
              "      <th>V17</th>\n",
              "      <th>V18</th>\n",
              "      <th>V19</th>\n",
              "      <th>V20</th>\n",
              "      <th>V21</th>\n",
              "      <th>V22</th>\n",
              "      <th>V23</th>\n",
              "      <th>V24</th>\n",
              "      <th>V25</th>\n",
              "      <th>V26</th>\n",
              "      <th>V27</th>\n",
              "      <th>V28</th>\n",
              "      <th>Amount</th>\n",
              "    </tr>\n",
              "    <tr>\n",
              "      <th>Class</th>\n",
              "      <th></th>\n",
              "      <th></th>\n",
              "      <th></th>\n",
              "      <th></th>\n",
              "      <th></th>\n",
              "      <th></th>\n",
              "      <th></th>\n",
              "      <th></th>\n",
              "      <th></th>\n",
              "      <th></th>\n",
              "      <th></th>\n",
              "      <th></th>\n",
              "      <th></th>\n",
              "      <th></th>\n",
              "      <th></th>\n",
              "      <th></th>\n",
              "      <th></th>\n",
              "      <th></th>\n",
              "      <th></th>\n",
              "      <th></th>\n",
              "      <th></th>\n",
              "      <th></th>\n",
              "      <th></th>\n",
              "      <th></th>\n",
              "      <th></th>\n",
              "      <th></th>\n",
              "      <th></th>\n",
              "      <th></th>\n",
              "      <th></th>\n",
              "      <th></th>\n",
              "    </tr>\n",
              "  </thead>\n",
              "  <tbody>\n",
              "    <tr>\n",
              "      <th>0.0</th>\n",
              "      <td>6893.713415</td>\n",
              "      <td>-0.165423</td>\n",
              "      <td>0.115658</td>\n",
              "      <td>0.958804</td>\n",
              "      <td>0.220723</td>\n",
              "      <td>-0.084915</td>\n",
              "      <td>0.214919</td>\n",
              "      <td>-0.101658</td>\n",
              "      <td>-0.042571</td>\n",
              "      <td>0.845227</td>\n",
              "      <td>-0.150749</td>\n",
              "      <td>0.776940</td>\n",
              "      <td>-1.549807</td>\n",
              "      <td>0.930251</td>\n",
              "      <td>0.819643</td>\n",
              "      <td>-0.257974</td>\n",
              "      <td>0.122687</td>\n",
              "      <td>0.386349</td>\n",
              "      <td>-0.005555</td>\n",
              "      <td>-0.021669</td>\n",
              "      <td>0.055842</td>\n",
              "      <td>-0.055080</td>\n",
              "      <td>-0.216093</td>\n",
              "      <td>-0.030537</td>\n",
              "      <td>0.040559</td>\n",
              "      <td>0.100847</td>\n",
              "      <td>0.008812</td>\n",
              "      <td>-0.025498</td>\n",
              "      <td>-0.016542</td>\n",
              "      <td>78.074858</td>\n",
              "    </tr>\n",
              "    <tr>\n",
              "      <th>1.0</th>\n",
              "      <td>11435.509434</td>\n",
              "      <td>-3.741448</td>\n",
              "      <td>4.210880</td>\n",
              "      <td>-8.054355</td>\n",
              "      <td>6.319676</td>\n",
              "      <td>-2.313737</td>\n",
              "      <td>-1.954434</td>\n",
              "      <td>-5.621292</td>\n",
              "      <td>0.925182</td>\n",
              "      <td>-2.682759</td>\n",
              "      <td>-6.984619</td>\n",
              "      <td>6.590005</td>\n",
              "      <td>-10.285992</td>\n",
              "      <td>0.510247</td>\n",
              "      <td>-9.573349</td>\n",
              "      <td>-0.252661</td>\n",
              "      <td>-4.982615</td>\n",
              "      <td>-7.118854</td>\n",
              "      <td>-2.351230</td>\n",
              "      <td>0.220416</td>\n",
              "      <td>0.395363</td>\n",
              "      <td>0.293949</td>\n",
              "      <td>-0.038944</td>\n",
              "      <td>-0.330878</td>\n",
              "      <td>-0.400293</td>\n",
              "      <td>-0.139819</td>\n",
              "      <td>0.290936</td>\n",
              "      <td>0.680599</td>\n",
              "      <td>0.055737</td>\n",
              "      <td>100.407925</td>\n",
              "    </tr>\n",
              "  </tbody>\n",
              "</table>\n",
              "</div>"
            ],
            "text/plain": [
              "               Time        V1        V2  ...       V27       V28      Amount\n",
              "Class                                    ...                                \n",
              "0.0     6893.713415 -0.165423  0.115658  ... -0.025498 -0.016542   78.074858\n",
              "1.0    11435.509434 -3.741448  4.210880  ...  0.680599  0.055737  100.407925\n",
              "\n",
              "[2 rows x 30 columns]"
            ]
          },
          "metadata": {},
          "execution_count": 19
        }
      ]
    },
    {
      "cell_type": "markdown",
      "metadata": {
        "id": "MkasZ0ktfAoJ"
      },
      "source": [
        "Splitting the data into Features & Targets"
      ]
    },
    {
      "cell_type": "code",
      "metadata": {
        "id": "KFTrWTame7ax"
      },
      "source": [
        "X = new_dataset.drop(columns='Class', axis=1)\n",
        "Y = new_dataset['Class']"
      ],
      "execution_count": 20,
      "outputs": []
    },
    {
      "cell_type": "code",
      "metadata": {
        "colab": {
          "base_uri": "https://localhost:8080/"
        },
        "id": "MrFPagu6fEC_",
        "outputId": "2d670a89-91c5-4719-b775-30ccffa6b342"
      },
      "source": [
        "print(X)"
      ],
      "execution_count": 21,
      "outputs": [
        {
          "output_type": "stream",
          "name": "stdout",
          "text": [
            "        Time         V1         V2  ...       V27       V28   Amount\n",
            "1860    1438  -1.768929   1.208230  ...  0.325751  0.029609     5.00\n",
            "8784    8544  -6.571336 -11.943892  ... -0.793710  0.680622  4002.88\n",
            "8739    8458   1.259861   0.555062  ... -0.041843  0.027073     1.98\n",
            "2198    1719   1.169806   0.188238  ...  0.037833  0.014719     5.64\n",
            "11042  12603  -2.591475   0.718685  ... -0.489857 -0.544382    25.06\n",
            "...      ...        ...        ...  ...       ...       ...      ...\n",
            "12898  18690 -15.398845   7.472324  ...  2.262942 -1.178063     1.00\n",
            "13344  19762 -14.179165   7.421370  ...  2.171905 -1.395288     1.00\n",
            "13711  20011 -14.724627   7.875157  ...  2.161129 -1.401282     1.00\n",
            "13842  20332 -15.271362   8.326581  ...  2.149247 -1.406811     1.00\n",
            "13881  20451 -15.819179   8.775997  ...  2.136424 -1.411945     1.00\n",
            "\n",
            "[545 rows x 30 columns]\n"
          ]
        }
      ]
    },
    {
      "cell_type": "code",
      "metadata": {
        "colab": {
          "base_uri": "https://localhost:8080/"
        },
        "id": "OO_fsieBfI2D",
        "outputId": "4ee513b0-beae-4816-84bc-543a5ba63100"
      },
      "source": [
        "print(Y)"
      ],
      "execution_count": 22,
      "outputs": [
        {
          "output_type": "stream",
          "name": "stdout",
          "text": [
            "1860     0.0\n",
            "8784     0.0\n",
            "8739     0.0\n",
            "2198     0.0\n",
            "11042    0.0\n",
            "        ... \n",
            "12898    1.0\n",
            "13344    1.0\n",
            "13711    1.0\n",
            "13842    1.0\n",
            "13881    1.0\n",
            "Name: Class, Length: 545, dtype: float64\n"
          ]
        }
      ]
    },
    {
      "cell_type": "markdown",
      "metadata": {
        "id": "t62-FtxjfT9g"
      },
      "source": [
        "Split the data into Training data & Testing Data"
      ]
    },
    {
      "cell_type": "code",
      "metadata": {
        "id": "O9K96KbYfMsY"
      },
      "source": [
        "X_train, X_test, Y_train, Y_test = train_test_split(X, Y, test_size=0.2, stratify=Y, random_state=2)"
      ],
      "execution_count": 23,
      "outputs": []
    },
    {
      "cell_type": "code",
      "metadata": {
        "colab": {
          "base_uri": "https://localhost:8080/"
        },
        "id": "vgBYT6HGfXkM",
        "outputId": "8a2866b1-fa34-4b09-b058-6a9f652647ab"
      },
      "source": [
        "print(X.shape, X_train.shape, X_test.shape)"
      ],
      "execution_count": 24,
      "outputs": [
        {
          "output_type": "stream",
          "name": "stdout",
          "text": [
            "(545, 30) (436, 30) (109, 30)\n"
          ]
        }
      ]
    },
    {
      "cell_type": "markdown",
      "metadata": {
        "id": "0pJO8INPfhV0"
      },
      "source": [
        "Model Training"
      ]
    },
    {
      "cell_type": "markdown",
      "metadata": {
        "id": "iQK5qGvgfh5W"
      },
      "source": [
        "Logistic Regression"
      ]
    },
    {
      "cell_type": "code",
      "metadata": {
        "id": "Zj23xQlzfcRz"
      },
      "source": [
        "model = LogisticRegression()"
      ],
      "execution_count": 25,
      "outputs": []
    },
    {
      "cell_type": "code",
      "metadata": {
        "colab": {
          "base_uri": "https://localhost:8080/"
        },
        "id": "_Td1z4yxfnNG",
        "outputId": "079036ed-a093-49c5-c1c2-037088fd535c"
      },
      "source": [
        "# training the Logistic Regression Model with Training Data\n",
        "model.fit(X_train, Y_train)"
      ],
      "execution_count": 26,
      "outputs": [
        {
          "output_type": "stream",
          "name": "stderr",
          "text": [
            "/usr/local/lib/python3.7/dist-packages/sklearn/linear_model/_logistic.py:940: ConvergenceWarning: lbfgs failed to converge (status=1):\n",
            "STOP: TOTAL NO. of ITERATIONS REACHED LIMIT.\n",
            "\n",
            "Increase the number of iterations (max_iter) or scale the data as shown in:\n",
            "    https://scikit-learn.org/stable/modules/preprocessing.html\n",
            "Please also refer to the documentation for alternative solver options:\n",
            "    https://scikit-learn.org/stable/modules/linear_model.html#logistic-regression\n",
            "  extra_warning_msg=_LOGISTIC_SOLVER_CONVERGENCE_MSG)\n"
          ]
        },
        {
          "output_type": "execute_result",
          "data": {
            "text/plain": [
              "LogisticRegression(C=1.0, class_weight=None, dual=False, fit_intercept=True,\n",
              "                   intercept_scaling=1, l1_ratio=None, max_iter=100,\n",
              "                   multi_class='auto', n_jobs=None, penalty='l2',\n",
              "                   random_state=None, solver='lbfgs', tol=0.0001, verbose=0,\n",
              "                   warm_start=False)"
            ]
          },
          "metadata": {},
          "execution_count": 26
        }
      ]
    },
    {
      "cell_type": "markdown",
      "metadata": {
        "id": "7BGecNABfzl6"
      },
      "source": [
        "Model Evaluation"
      ]
    },
    {
      "cell_type": "markdown",
      "metadata": {
        "id": "14fFqj4vf0Gu"
      },
      "source": [
        "Accuracy Score"
      ]
    },
    {
      "cell_type": "code",
      "metadata": {
        "id": "gwWkpn5df39Z"
      },
      "source": [
        "# accuracy on training data\n",
        "X_train_prediction = model.predict(X_train)\n",
        "training_data_accuracy = accuracy_score(X_train_prediction, Y_train)"
      ],
      "execution_count": 27,
      "outputs": []
    },
    {
      "cell_type": "code",
      "metadata": {
        "colab": {
          "base_uri": "https://localhost:8080/"
        },
        "id": "5b9FW_Twfqpj",
        "outputId": "6a6734ec-c7e9-4367-ebdc-37e5bb296cb7"
      },
      "source": [
        "print('Accuracy on Training data : ', training_data_accuracy)"
      ],
      "execution_count": 28,
      "outputs": [
        {
          "output_type": "stream",
          "name": "stdout",
          "text": [
            "Accuracy on Training data :  0.9885321100917431\n"
          ]
        }
      ]
    },
    {
      "cell_type": "code",
      "metadata": {
        "id": "BSvRPUEjgBX8"
      },
      "source": [
        "# accuracy on test data\n",
        "X_test_prediction = model.predict(X_test)\n",
        "test_data_accuracy = accuracy_score(X_test_prediction, Y_test)"
      ],
      "execution_count": 29,
      "outputs": []
    },
    {
      "cell_type": "code",
      "metadata": {
        "colab": {
          "base_uri": "https://localhost:8080/"
        },
        "id": "HFlVE5fdgKWl",
        "outputId": "efc5fdc1-5d0a-497d-e6bb-614d4e71a56c"
      },
      "source": [
        "print('Accuracy score on Test Data : ', test_data_accuracy)"
      ],
      "execution_count": 30,
      "outputs": [
        {
          "output_type": "stream",
          "name": "stdout",
          "text": [
            "Accuracy score on Test Data :  0.981651376146789\n"
          ]
        }
      ]
    }
  ]
}